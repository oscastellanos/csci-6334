{
 "cells": [
  {
   "cell_type": "code",
   "execution_count": 2,
   "metadata": {},
   "outputs": [
    {
     "name": "stdout",
     "output_type": "stream",
     "text": [
      "\n",
      "Current OS:  Class OS with Scheduler: FCFS\n",
      "1003 1.575207233428955 0.3652217388153076\n",
      "1004 2.1378884315490723 0.5130472183227539\n",
      "1001 2.5831589698791504 0.1207280158996582\n",
      "1002 2.8420608043670654 0.2314009666442871\n",
      "Latency (Avg, Std): 2.285 +- 0.481 secs\n",
      "Latency Min: 1.575 Max: 2.842 secs\n",
      "Response Time (Avg, Std): 2.285 +- 0.481 secs\n",
      "Response Time Min: 1.575 Max: 2.842 secs\n",
      "OS Throughput:  1.4070642151283497\n",
      "\n",
      "Current OS:  Class OS with Scheduler: RR\n",
      "1003 1.7448863983154297 0.5157516002655029\n",
      "1004 2.1351141929626465 0.37952160835266113\n",
      "1001 2.57912540435791 0.12021088600158691\n",
      "1002 2.840055227279663 0.23407578468322754\n",
      "Latency (Avg, Std): 2.325 +- 0.419 secs\n",
      "Latency Min: 1.745 Max: 2.840 secs\n",
      "Response Time (Avg, Std): 2.325 +- 0.419 secs\n",
      "Response Time Min: 1.745 Max: 2.840 secs\n",
      "OS Throughput:  1.4075780874031227\n",
      "\n",
      "Current OS:  Class OS with Scheduler: Priority\n",
      "1003 1.3001484870910645 0.1295149326324463\n",
      "1004 2.0230886936187744 0.40101194381713867\n",
      "1001 2.5723206996917725 0.25785374641418457\n",
      "1002 2.819849967956543 0.5176770687103271\n",
      "Latency (Avg, Std): 2.179 +- 0.584 secs\n",
      "Latency Min: 1.300 Max: 2.820 secs\n",
      "Response Time (Avg, Std): 2.179 +- 0.584 secs\n",
      "Response Time Min: 1.300 Max: 2.820 secs\n",
      "OS Throughput:  1.417598870058884\n"
     ]
    }
   ],
   "source": [
    "fcfs = create_OS_FCFS('/home/osvaldo/Desktop/input_file.txt', 2)\n",
    "rr = create_OS_RR('/home/osvaldo/Desktop/input_file.txt', 2)\n",
    "priority = create_OS_Priority('/home/osvaldo/Desktop/input_file.txt', 2)\n",
    "    \n",
    "for os_object in [fcfs, rr, priority]:\n",
    "    print('\\nCurrent OS: ', os_object)\n",
    "    sim = Simulator(os_object)\n",
    "    sim.run()\n",
    "    throughput = sim.os.get_throughput()\n",
    "    Q = []\n",
    "    while not sim.os.Terminated_Queue.empty():\n",
    "        Q.append(sim.os.Terminated_Queue.get())\n",
    "    latencies = [proc.get_latency() for proc in Q]\n",
    "    response_times = [proc.get_response_time() for proc in Q]\n",
    "        \n",
    "    for proc in Q:\n",
    "        print(proc.get_ID(), proc.get_latency(), proc.get_response_time())\n",
    "            \n",
    "    avg, std, mini, maxi = compute_measurements(latencies)\n",
    "    print('Latency (Avg, Std): {:2.3f} +- {:2.3f} secs'.format(avg, std))\n",
    "    print('Latency Min: {:2.3f} Max: {:2.3f} secs'.format(mini, maxi))\n",
    "    avg, std, mini, maxi = compute_measurements(response_times)\n",
    "    print('Response Time (Avg, Std): {:2.3f} +- {:2.3f} secs'.format(avg, std))\n",
    "    print('Response Time Min: {:2.3f} Max: {:2.3f} secs'.format(mini, maxi))\n",
    "    print('OS Throughput: ', throughput)\n",
    "\n",
    "\n",
    "\n",
    "\n",
    "\n",
    "\n"
   ]
  },
  {
   "cell_type": "code",
   "execution_count": null,
   "metadata": {},
   "outputs": [],
   "source": []
  }
 ],
 "metadata": {
  "kernelspec": {
   "display_name": "Python 3",
   "language": "python",
   "name": "python3"
  },
  "language_info": {
   "codemirror_mode": {
    "name": "ipython",
    "version": 3
   },
   "file_extension": ".py",
   "mimetype": "text/x-python",
   "name": "python",
   "nbconvert_exporter": "python",
   "pygments_lexer": "ipython3",
   "version": "3.6.6"
  }
 },
 "nbformat": 4,
 "nbformat_minor": 2
}
